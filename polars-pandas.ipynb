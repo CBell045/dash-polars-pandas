{
 "cells": [
  {
   "cell_type": "code",
   "execution_count": 5,
   "metadata": {},
   "outputs": [],
   "source": [
    "import pandas as pd\n",
    "import polars as pl\n",
    "import time"
   ]
  },
  {
   "cell_type": "code",
   "execution_count": 9,
   "metadata": {},
   "outputs": [],
   "source": [
    "def timer(func):\n",
    "    def wrapper(*args, **kwargs):\n",
    "        start = time.perf_counter()\n",
    "        func(*args, **kwargs)\n",
    "        end = time.perf_counter()\n",
    "        return f\"{func.__name__} took {end - start} seconds\"\n",
    "    return wrapper"
   ]
  },
  {
   "cell_type": "code",
   "execution_count": 10,
   "metadata": {},
   "outputs": [
    {
     "data": {
      "text/plain": [
       "'read_parquet_polars took 1.5037989160045981 seconds'"
      ]
     },
     "execution_count": 10,
     "metadata": {},
     "output_type": "execute_result"
    }
   ],
   "source": [
    "def read_parquet_pandas():\n",
    "    return pd.read_parquet('tpch-main/parquet/lineitem')\n",
    "\n",
    "def read_parquet_polars():\n",
    "    return pl.read_parquet('tpch-main/parquet/lineitem/*')\n",
    "\n",
    "# timer(read_parquet_pandas)()\n",
    "timer(read_parquet_polars)()\n",
    "\n",
    "# import inspect\n",
    "\n",
    "# print(inspect.getsource(read_parquet_polars))"
   ]
  },
  {
   "cell_type": "code",
   "execution_count": 109,
   "metadata": {},
   "outputs": [
    {
     "name": "stdout",
     "output_type": "stream",
     "text": [
      "query1_pandas took 5.240994082996622 seconds\n"
     ]
    },
    {
     "data": {
      "text/html": [
       "<div>\n",
       "<style scoped>\n",
       "    .dataframe tbody tr th:only-of-type {\n",
       "        vertical-align: middle;\n",
       "    }\n",
       "\n",
       "    .dataframe tbody tr th {\n",
       "        vertical-align: top;\n",
       "    }\n",
       "\n",
       "    .dataframe thead th {\n",
       "        text-align: right;\n",
       "    }\n",
       "</style>\n",
       "<table border=\"1\" class=\"dataframe\">\n",
       "  <thead>\n",
       "    <tr style=\"text-align: right;\">\n",
       "      <th></th>\n",
       "      <th>l_returnflag</th>\n",
       "      <th>l_linestatus</th>\n",
       "      <th>sum_qty</th>\n",
       "      <th>sum_base_price</th>\n",
       "      <th>sum_disc_price</th>\n",
       "      <th>sum_charge</th>\n",
       "      <th>avg_qty</th>\n",
       "      <th>avg_price</th>\n",
       "      <th>avg_disc</th>\n",
       "      <th>count_order</th>\n",
       "    </tr>\n",
       "  </thead>\n",
       "  <tbody>\n",
       "    <tr>\n",
       "      <th>0</th>\n",
       "      <td>A</td>\n",
       "      <td>F</td>\n",
       "      <td>37734107.0</td>\n",
       "      <td>5.658655e+10</td>\n",
       "      <td>5.375826e+10</td>\n",
       "      <td>5.590907e+10</td>\n",
       "      <td>25.522006</td>\n",
       "      <td>38273.129735</td>\n",
       "      <td>0.049985</td>\n",
       "      <td>1478493</td>\n",
       "    </tr>\n",
       "    <tr>\n",
       "      <th>1</th>\n",
       "      <td>N</td>\n",
       "      <td>F</td>\n",
       "      <td>991417.0</td>\n",
       "      <td>1.487505e+09</td>\n",
       "      <td>1.413082e+09</td>\n",
       "      <td>1.469649e+09</td>\n",
       "      <td>25.516472</td>\n",
       "      <td>38284.467761</td>\n",
       "      <td>0.050093</td>\n",
       "      <td>38854</td>\n",
       "    </tr>\n",
       "    <tr>\n",
       "      <th>2</th>\n",
       "      <td>N</td>\n",
       "      <td>O</td>\n",
       "      <td>74476023.0</td>\n",
       "      <td>1.117017e+11</td>\n",
       "      <td>1.061182e+11</td>\n",
       "      <td>1.103670e+11</td>\n",
       "      <td>25.502230</td>\n",
       "      <td>38249.123838</td>\n",
       "      <td>0.049997</td>\n",
       "      <td>2920373</td>\n",
       "    </tr>\n",
       "    <tr>\n",
       "      <th>3</th>\n",
       "      <td>R</td>\n",
       "      <td>F</td>\n",
       "      <td>37719753.0</td>\n",
       "      <td>5.656804e+10</td>\n",
       "      <td>5.374129e+10</td>\n",
       "      <td>5.588962e+10</td>\n",
       "      <td>25.505794</td>\n",
       "      <td>38250.854626</td>\n",
       "      <td>0.050009</td>\n",
       "      <td>1478870</td>\n",
       "    </tr>\n",
       "  </tbody>\n",
       "</table>\n",
       "</div>"
      ],
      "text/plain": [
       "  l_returnflag l_linestatus     sum_qty  sum_base_price  sum_disc_price  \\\n",
       "0            A            F  37734107.0    5.658655e+10    5.375826e+10   \n",
       "1            N            F    991417.0    1.487505e+09    1.413082e+09   \n",
       "2            N            O  74476023.0    1.117017e+11    1.061182e+11   \n",
       "3            R            F  37719753.0    5.656804e+10    5.374129e+10   \n",
       "\n",
       "     sum_charge    avg_qty     avg_price  avg_disc  count_order  \n",
       "0  5.590907e+10  25.522006  38273.129735  0.049985      1478493  \n",
       "1  1.469649e+09  25.516472  38284.467761  0.050093        38854  \n",
       "2  1.103670e+11  25.502230  38249.123838  0.049997      2920373  \n",
       "3  5.588962e+10  25.505794  38250.854626  0.050009      1478870  "
      ]
     },
     "execution_count": 109,
     "metadata": {},
     "output_type": "execute_result"
    }
   ],
   "source": [
    "# Query 1\n",
    "# SELECT\n",
    "#     l_returnflag,\n",
    "#     l_linestatus,\n",
    "#     sum(l_quantity) as sum_qty,\n",
    "#     sum(l_extendedprice) as sum_base_price,\n",
    "#     sum(l_extendedprice * (1 - l_discount)) as sum_disc_price,\n",
    "#     sum(l_extendedprice * (1 - l_discount) * (1 + l_tax)) as sum_charge,\n",
    "#     avg(l_quantity) as avg_qty,\n",
    "#     avg(l_extendedprice) as avg_price,\n",
    "#     avg(l_discount) as avg_disc,\n",
    "#     count(*) as count_order\n",
    "# FROM\n",
    "#     lineitem\n",
    "# WHERE\n",
    "#     l_shipdate <= date '1998-12-01' - interval '90' day\n",
    "# GROUP BY\n",
    "#     l_returnflag,\n",
    "#     l_linestatus\n",
    "# ORDER BY\n",
    "#     l_returnflag,\n",
    "#     l_linestatus;\n",
    "import datetime as dt\n",
    "def query1_pandas():\n",
    "    df = pd.read_parquet('tpch-main/parquet/lineitem')\n",
    "    df = df[df['l_shipdate'] <= dt.date(1998, 12, 1) - dt.timedelta(days=90)]\n",
    "    df = df.groupby(['l_returnflag', 'l_linestatus']).agg(\n",
    "        sum_qty=('l_quantity', 'sum'),\n",
    "        sum_base_price=('l_extendedprice', 'sum'),\n",
    "        sum_disc_price=('l_extendedprice', lambda x: (x * (1 - df['l_discount'])).sum()),\n",
    "        sum_charge=('l_extendedprice', lambda x: (x * (1 - df['l_discount']) * (1 + df['l_tax'])).sum()),\n",
    "        avg_qty=('l_quantity', 'mean'),\n",
    "        avg_price=('l_extendedprice', 'mean'),\n",
    "        avg_disc=('l_discount', 'mean'),\n",
    "        count_order=('l_orderkey', 'count')\n",
    "    )\n",
    "    df = df.sort_values(['l_returnflag', 'l_linestatus'])\n",
    "    return df.reset_index()\n",
    "\n",
    "\n",
    "\n",
    "timer(query1_pandas)()\n"
   ]
  },
  {
   "cell_type": "code",
   "execution_count": 103,
   "metadata": {},
   "outputs": [],
   "source": [
    "df = pl.read_parquet('tpch-main/parquet/lineitem/*')\n"
   ]
  },
  {
   "cell_type": "code",
   "execution_count": 108,
   "metadata": {},
   "outputs": [
    {
     "name": "stdout",
     "output_type": "stream",
     "text": [
      "query1_polars took 0.687089333019685 seconds\n"
     ]
    },
    {
     "data": {
      "text/html": [
       "<div><style>\n",
       ".dataframe > thead > tr,\n",
       ".dataframe > tbody > tr {\n",
       "  text-align: right;\n",
       "  white-space: pre-wrap;\n",
       "}\n",
       "</style>\n",
       "<small>shape: (4, 10)</small><table border=\"1\" class=\"dataframe\"><thead><tr><th>l_returnflag</th><th>l_linestatus</th><th>sum_qty</th><th>sum_base_price</th><th>sum_disc_price</th><th>sum_charge</th><th>avg_qty</th><th>avg_price</th><th>avg_disc</th><th>count_order</th></tr><tr><td>str</td><td>str</td><td>f64</td><td>f64</td><td>f64</td><td>f64</td><td>f64</td><td>f64</td><td>f64</td><td>u32</td></tr></thead><tbody><tr><td>&quot;A&quot;</td><td>&quot;F&quot;</td><td>3.7734107e7</td><td>5.6587e10</td><td>5.3758e10</td><td>5.3645e10</td><td>25.522006</td><td>38273.129735</td><td>0.049985</td><td>1478493</td></tr><tr><td>&quot;N&quot;</td><td>&quot;F&quot;</td><td>991417.0</td><td>1.4875e9</td><td>1.4131e9</td><td>1.4101e9</td><td>25.516472</td><td>38284.467761</td><td>0.050093</td><td>38854</td></tr><tr><td>&quot;N&quot;</td><td>&quot;O&quot;</td><td>7.4476023e7</td><td>1.1170e11</td><td>1.0612e11</td><td>1.0589e11</td><td>25.50223</td><td>38249.123838</td><td>0.049997</td><td>2920373</td></tr><tr><td>&quot;R&quot;</td><td>&quot;F&quot;</td><td>3.7719753e7</td><td>5.6568e10</td><td>5.3741e10</td><td>5.3628e10</td><td>25.505794</td><td>38250.854626</td><td>0.050009</td><td>1478870</td></tr></tbody></table></div>"
      ],
      "text/plain": [
       "shape: (4, 10)\n",
       "┌───────────┬───────────┬───────────┬───────────┬───┬───────────┬───────────┬──────────┬───────────┐\n",
       "│ l_returnf ┆ l_linesta ┆ sum_qty   ┆ sum_base_ ┆ … ┆ avg_qty   ┆ avg_price ┆ avg_disc ┆ count_ord │\n",
       "│ lag       ┆ tus       ┆ ---       ┆ price     ┆   ┆ ---       ┆ ---       ┆ ---      ┆ er        │\n",
       "│ ---       ┆ ---       ┆ f64       ┆ ---       ┆   ┆ f64       ┆ f64       ┆ f64      ┆ ---       │\n",
       "│ str       ┆ str       ┆           ┆ f64       ┆   ┆           ┆           ┆          ┆ u32       │\n",
       "╞═══════════╪═══════════╪═══════════╪═══════════╪═══╪═══════════╪═══════════╪══════════╪═══════════╡\n",
       "│ A         ┆ F         ┆ 3.7734107 ┆ 5.6587e10 ┆ … ┆ 25.522006 ┆ 38273.129 ┆ 0.049985 ┆ 1478493   │\n",
       "│           ┆           ┆ e7        ┆           ┆   ┆           ┆ 735       ┆          ┆           │\n",
       "│ N         ┆ F         ┆ 991417.0  ┆ 1.4875e9  ┆ … ┆ 25.516472 ┆ 38284.467 ┆ 0.050093 ┆ 38854     │\n",
       "│           ┆           ┆           ┆           ┆   ┆           ┆ 761       ┆          ┆           │\n",
       "│ N         ┆ O         ┆ 7.4476023 ┆ 1.1170e11 ┆ … ┆ 25.50223  ┆ 38249.123 ┆ 0.049997 ┆ 2920373   │\n",
       "│           ┆           ┆ e7        ┆           ┆   ┆           ┆ 838       ┆          ┆           │\n",
       "│ R         ┆ F         ┆ 3.7719753 ┆ 5.6568e10 ┆ … ┆ 25.505794 ┆ 38250.854 ┆ 0.050009 ┆ 1478870   │\n",
       "│           ┆           ┆ e7        ┆           ┆   ┆           ┆ 626       ┆          ┆           │\n",
       "└───────────┴───────────┴───────────┴───────────┴───┴───────────┴───────────┴──────────┴───────────┘"
      ]
     },
     "execution_count": 108,
     "metadata": {},
     "output_type": "execute_result"
    }
   ],
   "source": [
    "# Query 1\n",
    "# SELECT\n",
    "#     l_returnflag,\n",
    "#     l_linestatus,\n",
    "#     sum(l_quantity) as sum_qty,\n",
    "#     sum(l_extendedprice) as sum_base_price,\n",
    "#     sum(l_extendedprice * (1 - l_discount)) as sum_disc_price,\n",
    "#     sum(l_extendedprice * (1 - l_discount) * (1 + l_tax)) as sum_charge,\n",
    "#     avg(l_quantity) as avg_qty,\n",
    "#     avg(l_extendedprice) as avg_price,\n",
    "#     avg(l_discount) as avg_disc,\n",
    "#     count(*) as count_order\n",
    "# FROM\n",
    "#     lineitem\n",
    "# WHERE\n",
    "#     l_shipdate <= date '1998-12-01' - interval '90' day\n",
    "# GROUP BY\n",
    "#     l_returnflag,\n",
    "#     l_linestatus\n",
    "# ORDER BY\n",
    "#     l_returnflag,\n",
    "#     l_linestatus;\n",
    "def query1_polars():\n",
    "    return (\n",
    "        df.filter(pl.col('l_shipdate') <= pl.date(1998, 12, 1) - pl.duration(days=90))\n",
    "        .group_by(['l_returnflag', 'l_linestatus']).agg(\n",
    "            sum_qty=pl.col('l_quantity').sum(),\n",
    "            sum_base_price=pl.col('l_extendedprice').sum(),\n",
    "            sum_disc_price=(pl.col('l_extendedprice') * (1 - pl.col('l_discount'))).sum(),\n",
    "            sum_charge=(pl.col('l_extendedprice') * (1 - pl.col('l_discount') * (1 + pl.col('l_tax')))).sum(),\n",
    "            avg_qty=pl.col('l_quantity').mean(),\n",
    "            avg_price=pl.col('l_extendedprice').mean(),\n",
    "            avg_disc=pl.col('l_discount').mean(),\n",
    "            count_order=pl.col('l_orderkey').count()\n",
    "        )\n",
    "        .sort(['l_returnflag', 'l_linestatus'])\n",
    "        )\n",
    "\n",
    "timer(query1_polars)()\n"
   ]
  },
  {
   "cell_type": "code",
   "execution_count": 102,
   "metadata": {},
   "outputs": [
    {
     "name": "stdout",
     "output_type": "stream",
     "text": [
      "read_titanic_pandas took 0.002811084035784006 seconds\n",
      "read_titanic_polars took 0.0010386669891886413 seconds\n"
     ]
    },
    {
     "data": {
      "text/html": [
       "<div><style>\n",
       ".dataframe > thead > tr,\n",
       ".dataframe > tbody > tr {\n",
       "  text-align: right;\n",
       "  white-space: pre-wrap;\n",
       "}\n",
       "</style>\n",
       "<small>shape: (5, 12)</small><table border=\"1\" class=\"dataframe\"><thead><tr><th>PassengerId</th><th>Survived</th><th>Pclass</th><th>Name</th><th>Sex</th><th>Age</th><th>SibSp</th><th>Parch</th><th>Ticket</th><th>Fare</th><th>Cabin</th><th>Embarked</th></tr><tr><td>i64</td><td>i64</td><td>i64</td><td>str</td><td>str</td><td>f64</td><td>i64</td><td>i64</td><td>str</td><td>f64</td><td>str</td><td>str</td></tr></thead><tbody><tr><td>2</td><td>1</td><td>1</td><td>&quot;Cumings, Mrs. …</td><td>&quot;female&quot;</td><td>38.0</td><td>1</td><td>0</td><td>&quot;PC 17599&quot;</td><td>71.2833</td><td>&quot;C85&quot;</td><td>&quot;C&quot;</td></tr><tr><td>7</td><td>0</td><td>1</td><td>&quot;McCarthy, Mr. …</td><td>&quot;male&quot;</td><td>54.0</td><td>0</td><td>0</td><td>&quot;17463&quot;</td><td>51.8625</td><td>&quot;E46&quot;</td><td>&quot;S&quot;</td></tr><tr><td>12</td><td>1</td><td>1</td><td>&quot;Bonnell, Miss.…</td><td>&quot;female&quot;</td><td>58.0</td><td>0</td><td>0</td><td>&quot;113783&quot;</td><td>26.55</td><td>&quot;C103&quot;</td><td>&quot;S&quot;</td></tr><tr><td>14</td><td>0</td><td>3</td><td>&quot;Andersson, Mr.…</td><td>&quot;male&quot;</td><td>39.0</td><td>1</td><td>5</td><td>&quot;347082&quot;</td><td>31.275</td><td>null</td><td>&quot;S&quot;</td></tr><tr><td>16</td><td>1</td><td>2</td><td>&quot;Hewlett, Mrs. …</td><td>&quot;female&quot;</td><td>55.0</td><td>0</td><td>0</td><td>&quot;248706&quot;</td><td>16.0</td><td>null</td><td>&quot;S&quot;</td></tr></tbody></table></div>"
      ],
      "text/plain": [
       "shape: (5, 12)\n",
       "┌─────────────┬──────────┬────────┬────────────────────┬───┬──────────┬─────────┬───────┬──────────┐\n",
       "│ PassengerId ┆ Survived ┆ Pclass ┆ Name               ┆ … ┆ Ticket   ┆ Fare    ┆ Cabin ┆ Embarked │\n",
       "│ ---         ┆ ---      ┆ ---    ┆ ---                ┆   ┆ ---      ┆ ---     ┆ ---   ┆ ---      │\n",
       "│ i64         ┆ i64      ┆ i64    ┆ str                ┆   ┆ str      ┆ f64     ┆ str   ┆ str      │\n",
       "╞═════════════╪══════════╪════════╪════════════════════╪═══╪══════════╪═════════╪═══════╪══════════╡\n",
       "│ 2           ┆ 1        ┆ 1      ┆ Cumings, Mrs. John ┆ … ┆ PC 17599 ┆ 71.2833 ┆ C85   ┆ C        │\n",
       "│             ┆          ┆        ┆ Bradley (Flor…     ┆   ┆          ┆         ┆       ┆          │\n",
       "│ 7           ┆ 0        ┆ 1      ┆ McCarthy, Mr.      ┆ … ┆ 17463    ┆ 51.8625 ┆ E46   ┆ S        │\n",
       "│             ┆          ┆        ┆ Timothy J          ┆   ┆          ┆         ┆       ┆          │\n",
       "│ 12          ┆ 1        ┆ 1      ┆ Bonnell, Miss.     ┆ … ┆ 113783   ┆ 26.55   ┆ C103  ┆ S        │\n",
       "│             ┆          ┆        ┆ Elizabeth          ┆   ┆          ┆         ┆       ┆          │\n",
       "│ 14          ┆ 0        ┆ 3      ┆ Andersson, Mr.     ┆ … ┆ 347082   ┆ 31.275  ┆ null  ┆ S        │\n",
       "│             ┆          ┆        ┆ Anders Johan       ┆   ┆          ┆         ┆       ┆          │\n",
       "│ 16          ┆ 1        ┆ 2      ┆ Hewlett, Mrs.      ┆ … ┆ 248706   ┆ 16.0    ┆ null  ┆ S        │\n",
       "│             ┆          ┆        ┆ (Mary D Kingcome)  ┆   ┆          ┆         ┆       ┆          │\n",
       "└─────────────┴──────────┴────────┴────────────────────┴───┴──────────┴─────────┴───────┴──────────┘"
      ]
     },
     "execution_count": 102,
     "metadata": {},
     "output_type": "execute_result"
    }
   ],
   "source": [
    "\n",
    "def read_titanic_pandas():\n",
    "    titanic = pd.read_csv(\"data/titanic.csv\")\n",
    "    above_35 = titanic[titanic[\"Age\"] > 35]\n",
    "    return above_35.head()\n",
    "\n",
    "def read_titanic_polars():\n",
    "    return (\n",
    "        pl.read_csv(\"data/titanic.csv\")\n",
    "        .filter(pl.col(\"Age\") > 35)\n",
    "        .head()\n",
    "        )\n",
    "\n",
    "timer(read_titanic_pandas)()\n",
    "timer(read_titanic_polars)()"
   ]
  },
  {
   "cell_type": "code",
   "execution_count": 11,
   "metadata": {},
   "outputs": [
    {
     "ename": "NameError",
     "evalue": "name 'read_titanic_pandas' is not defined",
     "output_type": "error",
     "traceback": [
      "\u001b[0;31m---------------------------------------------------------------------------\u001b[0m",
      "\u001b[0;31mNameError\u001b[0m                                 Traceback (most recent call last)",
      "Cell \u001b[0;32mIn[11], line 13\u001b[0m\n\u001b[1;32m      7\u001b[0m \u001b[38;5;28;01mdef\u001b[39;00m \u001b[38;5;21mfilter_titanic_polars\u001b[39m():\n\u001b[1;32m      8\u001b[0m     \u001b[38;5;28;01mreturn\u001b[39;00m (\n\u001b[1;32m      9\u001b[0m         df\n\u001b[1;32m     10\u001b[0m         \u001b[38;5;241m.\u001b[39mfilter(pl\u001b[38;5;241m.\u001b[39mcol(\u001b[38;5;124m\"\u001b[39m\u001b[38;5;124mAge\u001b[39m\u001b[38;5;124m\"\u001b[39m) \u001b[38;5;241m>\u001b[39m \u001b[38;5;241m35\u001b[39m)\n\u001b[1;32m     11\u001b[0m         )\n\u001b[0;32m---> 13\u001b[0m timer(\u001b[43mread_titanic_pandas\u001b[49m)()\n\u001b[1;32m     14\u001b[0m timer(read_titanic_polars)()\n",
      "\u001b[0;31mNameError\u001b[0m: name 'read_titanic_pandas' is not defined"
     ]
    }
   ],
   "source": [
    "titanic = pd.read_csv(\"data/titanic.csv\")\n",
    "def filter_titanic_pandas():\n",
    "    above_35 = titanic[titanic[\"Age\"] > 35]\n",
    "    return above_35\n",
    "\n",
    "df = pl.read_csv(\"data/titanic.csv\")\n",
    "def filter_titanic_polars():\n",
    "    return (\n",
    "        df\n",
    "        .filter(pl.col(\"Age\") > 35)\n",
    "        )\n",
    "\n",
    "timer(read_titanic_pandas)()\n",
    "timer(read_titanic_polars)()"
   ]
  },
  {
   "cell_type": "code",
   "execution_count": 3,
   "metadata": {},
   "outputs": [
    {
     "name": "stdout",
     "output_type": "stream",
     "text": [
      "    df = pd.read_csv(\"data/titanic.csv\")\n"
     ]
    }
   ],
   "source": [
    "import inspect\n",
    "\n",
    "def query_1_pandas():\n",
    "    df = pd.read_csv(\"data/titanic.csv\")\n",
    "    return df\n",
    "\n",
    "# Get the full source code of the function\n",
    "full_source = inspect.getsource(query_1_pandas)\n",
    "\n",
    "# Split the source code into lines\n",
    "source_lines = full_source.split('\\n')\n",
    "\n",
    "# Extract just the body of the function (excluding the signature)\n",
    "body_lines = source_lines[1:-2]  # Exclude the first and last line which contain def and the closing parenthesis respectively\n",
    "\n",
    "# Join the lines back together\n",
    "body_source = '\\n'.join(body_lines)\n",
    "\n",
    "print(body_source)\n"
   ]
  }
 ],
 "metadata": {
  "kernelspec": {
   "display_name": "Python 3",
   "language": "python",
   "name": "python3"
  },
  "language_info": {
   "codemirror_mode": {
    "name": "ipython",
    "version": 3
   },
   "file_extension": ".py",
   "mimetype": "text/x-python",
   "name": "python",
   "nbconvert_exporter": "python",
   "pygments_lexer": "ipython3",
   "version": "3.12.1"
  }
 },
 "nbformat": 4,
 "nbformat_minor": 2
}
